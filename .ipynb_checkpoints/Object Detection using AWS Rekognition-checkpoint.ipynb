{
 "cells": [
  {
   "cell_type": "code",
   "execution_count": 1,
   "id": "68ada7a1-55ed-4a88-9349-f1b53374b099",
   "metadata": {},
   "outputs": [],
   "source": [
    "access_key=None\n",
    "secret_key=None"
   ]
  },
  {
   "cell_type": "code",
   "execution_count": 4,
   "id": "b90d79c1-a22e-43ef-9a44-5a155eb098a0",
   "metadata": {},
   "outputs": [],
   "source": [
    "import os\n",
    "import shutil\n",
    "import boto3\n",
    "import cv2\n",
    "import matplotlib.pyplot as plt"
   ]
  },
  {
   "cell_type": "code",
   "execution_count": 3,
   "id": "b78384e0-b3a6-478d-8c86-850e7f0adab3",
   "metadata": {},
   "outputs": [],
   "source": [
    "reko_client=boto3.client('rekognition',\n",
    "                         aws_access_key_id=access_key,\n",
    "                         aws_secret_access_key=secret_key,\n",
    "                         region_name='ap-south-1')"
   ]
  },
  {
   "cell_type": "code",
   "execution_count": 5,
   "id": "e865026a-0d83-48aa-ad87-69e06aa7829b",
   "metadata": {},
   "outputs": [],
   "source": [
    "output_dir='./output_lane_crossing'\n",
    "anns_dir=os.path.join(output_dir,'anns')\n",
    "imgs_dir=os.path.join(output_dir,'imgs')"
   ]
  },
  {
   "cell_type": "code",
   "execution_count": 6,
   "id": "b8ad7bed-a1af-4246-87a1-feecbee19b9e",
   "metadata": {},
   "outputs": [],
   "source": [
    "for dir_ in [output_dir,anns_dir,imgs_dir]:\n",
    "    if os.path.exists(dir_):\n",
    "        shutil.rmtree(dir_)\n",
    "    os.mkdir(dir_)"
   ]
  },
  {
   "cell_type": "code",
   "execution_count": 7,
   "id": "da0e29c5-3aa6-468b-9f99-e71fc6d4e8e7",
   "metadata": {},
   "outputs": [],
   "source": [
    "input_file='zebras.mp4'\n",
    "cap=cv2.VideoCapture(input_file)"
   ]
  },
  {
   "cell_type": "code",
   "execution_count": 8,
   "id": "ed9aa789-1c4a-4474-8a53-ba76a4ffb8cb",
   "metadata": {},
   "outputs": [],
   "source": [
    "counter=0\n",
    "ret=True\n",
    "class_names=[]"
   ]
  },
  {
   "cell_type": "code",
   "execution_count": 12,
   "id": "f00a6fe2-9b21-4f2d-b6ba-1445b6888532",
   "metadata": {},
   "outputs": [],
   "source": [
    "while ret:\n",
    "    cap.set(cv2.CAP_PROP_POS_FRAMES, counter)\n",
    "    ret, frame = cap.read()\n",
    "    if ret:\n",
    "        H, W, _ = frame.shape\n",
    "        anns_file = open(os.path.join(anns_dir, '{}.txt'.format(str(counter).zfill(6))), 'w')\n",
    "        tmp_filename = './tmp.jpg'\n",
    "        cv2.imwrite(tmp_filename, frame)\n",
    "        cv2.imwrite(os.path.join(imgs_dir, '{}.jpg'.format(str(counter).zfill(6))), frame)\n",
    "        with open(tmp_filename, 'rb') as image:\n",
    "            response = reko_client.detect_labels(Image={'Bytes': image.read()})\n",
    "        for label in response['Labels']:\n",
    "            if len(label['Instances']) > 0:\n",
    "                name = label['Name']\n",
    "                if name not in class_names:\n",
    "                    class_names.append(name)\n",
    "                for instance in label['Instances']:\n",
    "                    conf = float(instance['Confidence']) / 100\n",
    "                    w = instance['BoundingBox']['Width']\n",
    "                    h = instance['BoundingBox']['Height']\n",
    "                    x = instance['BoundingBox']['Left']\n",
    "                    y = instance['BoundingBox']['Top']\n",
    "                    anns_file.write('{} {} {} {} {} {}\\n'.format(class_names.index(name),\n",
    "                                                                 x + (w / 2),\n",
    "                                                                 y + (h / 2),\n",
    "                                                                 w,\n",
    "                                                                 h,\n",
    "                                                                 conf))\n",
    "\n",
    "        os.remove(tmp_filename)\n",
    "        anns_file.close()\n",
    "        counter += 1\n",
    "with open(os.path.join(output_dir, 'class.names'), 'w') as fw:\n",
    "    for name in class_names:\n",
    "        fw.write('{}\\n'.format(name))\n",
    "    fw.close()"
   ]
  }
 ],
 "metadata": {
  "kernelspec": {
   "display_name": "Python 3 (ipykernel)",
   "language": "python",
   "name": "python3"
  },
  "language_info": {
   "codemirror_mode": {
    "name": "ipython",
    "version": 3
   },
   "file_extension": ".py",
   "mimetype": "text/x-python",
   "name": "python",
   "nbconvert_exporter": "python",
   "pygments_lexer": "ipython3",
   "version": "3.8.18"
  }
 },
 "nbformat": 4,
 "nbformat_minor": 5
}
